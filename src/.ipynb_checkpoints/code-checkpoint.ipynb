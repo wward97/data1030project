{
 "cells": [
  {
   "cell_type": "code",
   "execution_count": null,
   "metadata": {},
   "outputs": [],
   "source": []
  },
  {
   "cell_type": "code",
   "execution_count": 37,
   "metadata": {},
   "outputs": [
    {
     "name": "stdout",
     "output_type": "stream",
     "text": [
      "6351\n",
      "6351\n",
      "6351\n"
     ]
    }
   ],
   "source": [
    "import pandas as pd\n",
    "import numpy as np\n",
    "from sklearn.preprocessing import StandardScaler\n",
    "from sklearn.preprocessing import LabelEncoder\n",
    "from sklearn.preprocessing import OneHotEncoder\n",
    "import warnings\n",
    "warnings.simplefilter(action='ignore', category=FutureWarning)\n",
    "\n",
    "#video_data = pd.read_csv('../data/USvideos.csv')\n",
    "#trending_date,views,likes,dislikes, categories = video_data['trending_date'],video_data['views'],video_data['likes'],video_data['dislikes'],video_data['category_id']\n",
    "#title = video_data['title']\n",
    "# ss = StandardScaler()\n",
    "# le = LabelEncoder()\n",
    "# enc = OneHotEncoder(sparse=False)\n",
    "# # preprocessed_data = {}\n",
    "# # preprocessed_data['key'] = video_data['video_id']\n",
    "# # preprocessed_data['trending_date'] = (le.fit_transform(trending_date))\n",
    "# # preprocessed_data['views'] = (ss.fit_transform(np.array(views).reshape(-1,1)))\n",
    "# # preprocessed_data['likes'] = (ss.fit_transform(np.array(likes).reshape(-1,1)))\n",
    "# # preprocessed_data['dislikes'] = (ss.fit_transform(np.array(dislikes).reshape(-1,1)))\n",
    "# # preprocessed_data['title'] = (video_data['title'])\n",
    "# # preprocessed_data['comments_disabled'] = (le.fit_transform(video_data['comments_disabled']))\n",
    "# # print(preprocessed_data['views'])\n",
    "# scaler_columns = ['likes', 'likes to views','dislikes', 'dislikes to views','comment_count', 'comment_count to views']\n",
    "# scaled_to_views = ['likes', 'dislikes','comment_count']\n",
    "# for x in scaled_to_views:\n",
    "#     video_data[x + ' to views'] = video_data[x] / video_data['views']\n",
    "# OHE_categories = ['comments_disabled' , 'category_id','ratings_disabled']\n",
    "# df_processed = pd.DataFrame(ss.fit_transform(video_data[scaler_columns]),columns = scaler_columns,index = None)\n",
    "# OHE_categories = pd.DataFrame(enc.fit_transform(video_data[OHE_categories]),columns = enc.get_feature_names(),index = None)\n",
    "# semi_processed = pd.concat([df_processed,OHE_categories],axis = 1)\n",
    "# full_processed = pd.concat([video_data['views'],semi_processed],axis = 1)\n",
    "#I can now transform my string trending dates into date trending dates\n",
    "#Seems time is in the form year day month?\n",
    "#Pandas time dataframe is in year month day. \n",
    "#Process: convert the string into datatype class. \n",
    "#group by every video id. Order the video id. Get the amount of time each video is on trending for. \n",
    "video_data = pd.read_csv('../data/USvideos.csv')\n",
    "\n",
    "unique_id = video_data['video_id'].unique()\n",
    "length_list = []\n",
    "date_list = []\n",
    "new_df_with_dates_uniques = {}\n",
    "for x in unique_id:\n",
    "    length_list.append(len(video_data[(video_data['video_id'] == x)].values))\n",
    "print(len(length_list))\n",
    "new_df_with_dates_uniques = {}\n",
    "unique_vid_df = video_data\n",
    "first_instance_checker = set()\n",
    "for index, row in video_data.iterrows():\n",
    "    if row['video_id'] in first_instance_checker:\n",
    "        unique_vid_df.drop(index,inplace = True)\n",
    "    else:\n",
    "        first_instance_checker.add(row['video_id'])\n",
    "print(len(unique_vid_df))\n",
    "unique_vid_df['duration_on_trending'] = length_list\n",
    "print(len(unique_vid_df))\n",
    "\n",
    "#print(full_processed.head())\n",
    "#export_csv = full_processed.to_csv (r'../data/Processed_Data.csv', index = None, header = True)"
   ]
  },
  {
   "cell_type": "code",
   "execution_count": 38,
   "metadata": {},
   "outputs": [
    {
     "name": "stdout",
     "output_type": "stream",
     "text": [
      "False\n",
      "count    6351.000000\n",
      "mean        6.447646\n",
      "std         4.642806\n",
      "min         1.000000\n",
      "25%         3.000000\n",
      "50%         6.000000\n",
      "75%         8.000000\n",
      "max        30.000000\n",
      "Name: duration_on_trending, dtype: float64\n"
     ]
    }
   ],
   "source": [
    "#print((unique_vid_df['duration_on_trending']))\n",
    "#print(length_list)\n",
    "print(np.isnan(unique_vid_df['duration_on_trending']).any())\n",
    "print(unique_vid_df['duration_on_trending'].describe())\n"
   ]
  },
  {
   "cell_type": "code",
   "execution_count": 40,
   "metadata": {},
   "outputs": [
    {
     "name": "stdout",
     "output_type": "stream",
     "text": [
      "6351\n",
      "6351\n",
      "6351\n",
      "6351\n",
      "False\n"
     ]
    }
   ],
   "source": [
    "\n",
    "#Preprocessing\n",
    "ss = StandardScaler()\n",
    "le = LabelEncoder()\n",
    "enc = OneHotEncoder(sparse=False)\n",
    "scaler_columns = ['likes','dislikes', 'comment_count','views']\n",
    "\n",
    "OHE_categories = ['comments_disabled' , 'category_id','ratings_disabled']\n",
    "df_processed = pd.DataFrame(ss.fit_transform(unique_vid_df[scaler_columns]),columns = scaler_columns,index = None)\n",
    "print(len(df_processed))\n",
    "OHE_categories = pd.DataFrame(enc.fit_transform(unique_vid_df[OHE_categories]),columns = enc.get_feature_names(),index = None)\n",
    "print(len(OHE_categories))\n",
    "semi_processed = pd.concat([df_processed,OHE_categories],axis = 1)\n",
    "print(len(semi_processed))\n",
    "semi_processed['duration_on_trending'] = unique_vid_df['duration_on_trending'].values\n",
    "print(len(semi_processed))\n",
    "#print(semi_processed.head())\n",
    "print(np.isnan(semi_processed['duration_on_trending'].values).any())\n",
    "export_csv = semi_processed.to_csv (r'../data/Processed_Data.csv', index = None, header = True)"
   ]
  },
  {
   "cell_type": "code",
   "execution_count": 14,
   "metadata": {},
   "outputs": [],
   "source": [
    "# #Things to look at: \n",
    "# #print(video_data['video_id'][2],views[2])\n",
    "# # list_tags = {}\n",
    "# # for x in video_data['tags']:\n",
    "# #     split_tags = x.split('|')\n",
    "# #     for y in split_tags:\n",
    "# #         list_tags[y] = []\n",
    "# #print(list_tags)\n",
    "# import pandas as pd\n",
    "# import numpy as np\n",
    "# video_data = pd.read_csv('../data/USvideos.csv')\n",
    "\n",
    "# list_tags = []\n",
    "# for x in video_data['tags']:\n",
    "#     list_tags.append(x.split('|'))\n",
    "# flatlist = []\n",
    "# for sublist in list_tags:\n",
    "#     for item in sublist:\n",
    "#         flatlist.append(item)\n",
    "\n",
    "# unique_list = np.unique(np.array(flatlist))\n",
    "# print(len(flatlist),len(unique_list))\n",
    "# a = np.zeros(shape=(len(video_data),len(unique_list)),dtype = int)\n",
    "# tag_dataframe = pd.DataFrame(a,columns=unique_list)\n",
    "# print(tag_dataframe.head())\n",
    "# for sublist in list_tags:\n",
    "#     counter=0\n",
    "#     for item in sublist:\n",
    "#         tag_dataframe[item][counter] = 1\n",
    "        \n",
    "#     counter+=1\n",
    "\n",
    "# # # print(list_tags['trump'])\n",
    "\n",
    "# # The first for loop (for x in video_data['tags']) is definitely necessary. \n",
    "# # If you'd like to speed up your code, you should work with numpy arrays. They are orders of magnitude faster to operate than python lists. \n",
    "# # For example, once you have your split_tags list of lists, you could collect the unique elements by using np.unique. \n",
    "# # Then you could create an array which will contain the one hot encoded version of the tags. \n",
    "# # The array will have the dimensions [number of videos, number of unique tags]. Then you need another loop to fill up this array with ones at the appropriate locations.\n",
    "\n",
    " \n",
    "\n",
    "# # I hope this helps!\n",
    "\n",
    "# # Andras"
   ]
  },
  {
   "cell_type": "code",
   "execution_count": 46,
   "metadata": {},
   "outputs": [
    {
     "name": "stdout",
     "output_type": "stream",
     "text": [
      "[ 1.36870771  1.36870771 11.32215979]\n",
      "[2.94407953e-42 6.33532818e-05 7.35406363e-16]\n",
      "Index(['views', 'likes', 'x1_10.0'], dtype='object')\n",
      "Index(['views', 'likes', 'x1_10.0'], dtype='object')\n"
     ]
    }
   ],
   "source": [
    "# #I can use f test and pca at least, and I can do one other plot without too much work. Check out lecture 9 and 10. \n",
    "\n",
    "import pandas as pd\n",
    "from sklearn.feature_selection import f_regression\n",
    "import matplotlib.pyplot as plt\n",
    "import numpy as np\n",
    "\n",
    "df = pd.read_csv('../data/Processed_Data.csv')\n",
    "y = df['duration_on_trending'].values # the target variable\n",
    "df.drop(columns=['duration_on_trending'],inplace=True)\n",
    "#df.drop(columns=['key'],inplace=True)\n",
    "\n",
    "X = df.values # the feature matrix\n",
    "feature_names = df.columns # feature names\n",
    "f_test, p_values = f_regression(X, y)\n",
    "print(f_test[:-4:-1])\n",
    "print(p_values[:3])\n",
    "print(feature_names[np.argsort(p_values)[:3]]) # small p value means more important features\n",
    "print(feature_names[np.argsort(f_test)[:-4:-1]]) # large f score means more important features\n",
    "#This overwhelming one sidedness of the results is what prompted me to change my approach with how to decide important factors. The idea now was to use, instead of likes dislike and comment count, to use\n",
    "#the ratio of these things. \n",
    "#Now I repeat the above but having removed likes dislikes and comment count and replace it with the ratio of that to views. "
   ]
  },
  {
   "cell_type": "code",
   "execution_count": 66,
   "metadata": {},
   "outputs": [
    {
     "data": {
      "image/png": "[encoded data removed]",
      "text/plain": [
       "<Figure size 432x288 with 1 Axes>"
      ]
     },
     "metadata": {
      "needs_background": "light"
     },
     "output_type": "display_data"
    },
    {
     "data": {
      "image/png": "[encoded data removed]",
      "text/plain": [
       "<Figure size 432x288 with 1 Axes>"
      ]
     },
     "metadata": {
      "needs_background": "light"
     },
     "output_type": "display_data"
    }
   ],
   "source": [
    "#We can see how some of the categories are influential, lets look at the top 5 categories and create violin graphs from them. \n",
    "import matplotlib.pyplot as plt\n",
    "df = pd.read_csv('../data/Processed_Data.csv')\n",
    "\n",
    "\n",
    "category_list = ['x1_10.0','x1_25.0','x1_17.0']\n",
    "\n",
    "list_data = []\n",
    "for x in category_list:\n",
    "    data=np.array(df[(df[x] == 1)]['duration_on_trending'])\n",
    "    list_data.append(data)\n",
    "plt.ylim((-10, 50))   # set the ylim to bottom, top\n",
    "plt.violinplot(list_data, range(1,4),showmeans=True,)\n",
    "plt.title('Category vs Duration on Trending')\n",
    "plt.ylabel(' Duration on Trending (days)')\n",
    "plt.xlabel('Categories')\n",
    "plt.savefig('../figures/violinplot_top3.png',dpi=300)\n",
    "plt.show()\n",
    "\n",
    "\n",
    "# plt.violinplot(list_data, range(1,6),showmeans=True,)\n",
    "# plt.title('Category vs  Duration on Trending')\n",
    "# plt.ylabel(' Duration on Trending')\n",
    "# plt.xlabel('Categories')\n",
    "# plt.savefig('../figures/violinplot.png',dpi=300)\n",
    "# plt.show()\n",
    "\n",
    "\n",
    "\n",
    "plt.scatter(df['views'],df['duration_on_trending'])\n",
    "#plt.scatter(df['views'],df['duration_on_trending'])\n",
    "\n",
    "plt.ylabel('Duration on Trending (days)')\n",
    "plt.xlabel('Views')\n",
    "plt.savefig('../figures/scatter.png',dpi=300)\n",
    "\n",
    "plt.show()\n"
   ]
  },
  {
   "cell_type": "code",
   "execution_count": 49,
   "metadata": {
    "scrolled": true
   },
   "outputs": [
    {
     "data": {
      "image/png": "[encoded data removed]",
      "text/plain": [
       "<Figure size 432x288 with 1 Axes>"
      ]
     },
     "metadata": {
      "needs_background": "light"
     },
     "output_type": "display_data"
    }
   ],
   "source": [
    "#As we can see from the scatter plot, videos with low dislikes do well and videos with high likes do well. We can also see that some videos with high dislikes can also do well. \n",
    "\n",
    "df = pd.read_csv('../data/Processed_Data.csv')\n",
    "y = df['duration_on_trending']\n",
    "y.hist(bins=30)\n",
    "plt.hist(y,bins=30)\n",
    "plt.xlabel('duration_on_trending')\n",
    "plt.ylabel('# of videos')\n",
    "plt.title('histogram of the target variable')\n",
    "plt.savefig('../figures/histogram.png',dpi=300)\n",
    "\n",
    "plt.show()\n",
    "#print(y.describe())\n",
    "# dz = pd.read_csv('USvideos.csv')\n",
    "# y = dz['views']\n",
    "# y.hist(bins=30)\n",
    "# plt.hist(y,bins=30,log=True,)\n",
    "# plt.xlabel('views')\n",
    "# plt.ylabel('# of videos')\n",
    "# plt.title('histogram of the target variable')\n",
    "# plt.show()\n",
    "#print(y.describe())"
   ]
  },
  {
   "cell_type": "code",
   "execution_count": 50,
   "metadata": {},
   "outputs": [
    {
     "data": {
      "image/png": "[encoded data removed]",
      "text/plain": [
       "<Figure size 720x720 with 2 Axes>"
      ]
     },
     "metadata": {
      "needs_background": "light"
     },
     "output_type": "display_data"
    }
   ],
   "source": [
    "df = pd.read_csv('../data/Processed_Data.csv')\n",
    "plt.figure(figsize=(10,10))\n",
    "plt.matshow(df.corr(),vmin=-1,vmax=1,cmap='seismic',fignum=0)\n",
    "plt.colorbar(label='corr. coeff.')\n",
    "plt.xticks(np.arange(df.corr().shape[0]),list(df.corr().columns),rotation=90)\n",
    "plt.yticks(np.arange(df.corr().shape[0]),list(df.corr().columns))\n",
    "plt.tight_layout()\n",
    "plt.savefig('../figures/scattermatrix.png',dpi=300)\n",
    "\n",
    "plt.show()\n"
   ]
  },
  {
   "cell_type": "code",
   "execution_count": 52,
   "metadata": {},
   "outputs": [
    {
     "name": "stdout",
     "output_type": "stream",
     "text": [
      "[0.57551048 0.72850209 0.79936829 0.84196688 0.86634239 0.88482011\n",
      " 0.90203242 0.91811328 0.93326702 0.94712451 0.95981194 0.97045161\n",
      " 0.9788556  0.9852172  0.99001183 0.99351822 0.99592247 0.99792056\n",
      " 0.99938949 0.99986376 1.         1.         1.         1.        ]\n",
      "11\n"
     ]
    }
   ],
   "source": [
    "from sklearn.decomposition import PCA\n",
    "import pandas as pd\n",
    "import numpy  as np\n",
    "\n",
    "df = pd.read_csv('../data/Processed_Data.csv')\n",
    "\n",
    "y = df['duration_on_trending'].values\n",
    "df.drop(columns=['duration_on_trending'],inplace=True)\n",
    "pca = PCA(n_components=df.shape[1]) \n",
    "X_pca = pca.fit_transform(df)\n",
    "print(np.cumsum(pca.explained_variance_ratio_))\n",
    "print(sum(np.cumsum(pca.explained_variance_ratio_) < 0.95)+1)"
   ]
  },
  {
   "cell_type": "code",
   "execution_count": 53,
   "metadata": {},
   "outputs": [
    {
     "name": "stdout",
     "output_type": "stream",
     "text": [
      "count    6351.000000\n",
      "mean        6.447646\n",
      "std         4.642806\n",
      "min         1.000000\n",
      "25%         3.000000\n",
      "50%         6.000000\n",
      "75%         8.000000\n",
      "max        30.000000\n",
      "Name: duration_on_trending, dtype: float64\n"
     ]
    }
   ],
   "source": [
    "import pandas as pd\n",
    "import numpy  as np\n",
    "import numpy as np\n",
    "from sklearn.model_selection import GridSearchCV\n",
    "from sklearn.pipeline import make_pipeline\n",
    "from sklearn.metrics import make_scorer\n",
    "from sklearn.model_selection import train_test_split\n",
    "from sklearn.model_selection import KFold\n",
    "from sklearn.preprocessing import StandardScaler\n",
    "from sklearn.preprocessing import OneHotEncoder\n",
    "from sklearn.linear_model import LogisticRegression\n",
    "from sklearn.metrics import mean_squared_error\n",
    "from sklearn.metrics import r2_score\n",
    "\n",
    "from sklearn.pipeline import Pipeline\n",
    "from sklearn.compose import ColumnTransformer\n",
    "from sklearn.metrics import accuracy_score\n",
    "from sklearn.linear_model import Ridge\n",
    "import pandas as pd\n",
    "import matplotlib.pyplot as plt\n",
    "import matplotlib\n",
    "import warnings\n",
    "from sklearn.svm import SVR\n",
    "warnings.filterwarnings(\"ignore\", category=FutureWarning)\n",
    "\n",
    "df = pd.read_csv('../data/Processed_Data.csv')\n",
    "print(df['duration_on_trending'].describe())\n",
    "y = df['duration_on_trending'].values\n",
    "X = df.drop(columns = 'duration_on_trending').values"
   ]
  },
  {
   "cell_type": "code",
   "execution_count": 59,
   "metadata": {},
   "outputs": [],
   "source": [
    "#svr \n",
    "def ML_pipeline_kfold_GridSearchCV(X,y,random_state,n_folds):\n",
    "    # create a test set\n",
    "    X_other, X_test, y_other, y_test = train_test_split(X, y, test_size=0.2, random_state = random_state)\n",
    "    # splitter for _other\n",
    "    kf = KFold(n_splits=n_folds,shuffle=True,random_state=random_state)\n",
    "\n",
    "    reg = SVR()  # the parameter(s) we want to tune\n",
    "    param_grid = {'C': np.logspace(-5,4,5),'gamma': np.logspace(-5,4,5)}    # prepare gridsearch\n",
    "    grid = GridSearchCV(reg, param_grid=param_grid,scoring = make_scorer(r2_score,greater_is_better=True),\n",
    "                        cv=kf, return_train_score = True,iid = True)\n",
    "    # do kfold CV on _other\n",
    "    grid.fit(X_other, y_other)\n",
    "    return grid, grid.score(X_test, y_test)"
   ]
  },
  {
   "cell_type": "code",
   "execution_count": 60,
   "metadata": {},
   "outputs": [
    {
     "name": "stdout",
     "output_type": "stream",
     "text": [
      "SVR(C=0.31622776601683794, cache_size=200, coef0=0.0, degree=3, epsilon=0.1,\n",
      "    gamma=56.23413251903491, kernel='rbf', max_iter=-1, shrinking=True,\n",
      "    tol=0.001, verbose=False)\n",
      "R2 score 0.06507676365556032\n",
      "13\n",
      "SVR(C=0.31622776601683794, cache_size=200, coef0=0.0, degree=3, epsilon=0.1,\n",
      "    gamma=0.31622776601683794, kernel='rbf', max_iter=-1, shrinking=True,\n",
      "    tol=0.001, verbose=False)\n",
      "R2 score 0.07055347792488695\n",
      "12\n",
      "SVR(C=0.31622776601683794, cache_size=200, coef0=0.0, degree=3, epsilon=0.1,\n",
      "    gamma=56.23413251903491, kernel='rbf', max_iter=-1, shrinking=True,\n",
      "    tol=0.001, verbose=False)\n",
      "R2 score 0.06808763759954117\n",
      "13\n",
      "SVR(C=0.31622776601683794, cache_size=200, coef0=0.0, degree=3, epsilon=0.1,\n",
      "    gamma=56.23413251903491, kernel='rbf', max_iter=-1, shrinking=True,\n",
      "    tol=0.001, verbose=False)\n",
      "R2 score 0.07444476526575944\n",
      "13\n",
      "SVR(C=0.31622776601683794, cache_size=200, coef0=0.0, degree=3, epsilon=0.1,\n",
      "    gamma=56.23413251903491, kernel='rbf', max_iter=-1, shrinking=True,\n",
      "    tol=0.001, verbose=False)\n",
      "R2 score 0.06257176548402611\n",
      "13\n",
      "SVR(C=0.31622776601683794, cache_size=200, coef0=0.0, degree=3, epsilon=0.1,\n",
      "    gamma=56.23413251903491, kernel='rbf', max_iter=-1, shrinking=True,\n",
      "    tol=0.001, verbose=False)\n",
      "R2 score 0.07112355446450547\n",
      "13\n",
      "SVR(C=0.31622776601683794, cache_size=200, coef0=0.0, degree=3, epsilon=0.1,\n",
      "    gamma=0.31622776601683794, kernel='rbf', max_iter=-1, shrinking=True,\n",
      "    tol=0.001, verbose=False)\n",
      "R2 score 0.06819025249915737\n",
      "12\n",
      "SVR(C=0.31622776601683794, cache_size=200, coef0=0.0, degree=3, epsilon=0.1,\n",
      "    gamma=56.23413251903491, kernel='rbf', max_iter=-1, shrinking=True,\n",
      "    tol=0.001, verbose=False)\n",
      "R2 score 0.06977590924581553\n",
      "13\n",
      "SVR(C=0.31622776601683794, cache_size=200, coef0=0.0, degree=3, epsilon=0.1,\n",
      "    gamma=56.23413251903491, kernel='rbf', max_iter=-1, shrinking=True,\n",
      "    tol=0.001, verbose=False)\n",
      "R2 score 0.07269146949312222\n",
      "13\n",
      "SVR(C=0.31622776601683794, cache_size=200, coef0=0.0, degree=3, epsilon=0.1,\n",
      "    gamma=0.31622776601683794, kernel='rbf', max_iter=-1, shrinking=True,\n",
      "    tol=0.001, verbose=False)\n",
      "R2 score 0.06323688274874924\n",
      "12\n",
      "test accuracy: 0.06453647141195046 +/- 0.01212162902781183\n"
     ]
    }
   ],
   "source": [
    "test_scores = []\n",
    "for error in range(1,11):\n",
    "    grid, test_score = ML_pipeline_kfold_GridSearchCV(X,y,error*19,5)\n",
    "    results = pd.DataFrame(grid.cv_results_)\n",
    "#     print('CV MSE:',-np.around(results[results['rank_test_score'] == 1]['mean_test_score'].values[0],2),\\\n",
    "#           '+/-',np.around(results[results['rank_test_score'] == 1]['std_test_score'].values[0],2))\n",
    "#     print('test MSE:',-np.around(test_score,2))\n",
    "    print(grid.best_estimator_)\n",
    "    print(\"R2 score\",grid.best_score_)\n",
    "    print(grid.best_index_)\n",
    "    test_scores.append(test_score)\n",
    "print('test accuracy:',np.mean(test_scores),'+/-',np.std(test_scores))"
   ]
  },
  {
   "cell_type": "code",
   "execution_count": 61,
   "metadata": {},
   "outputs": [],
   "source": [
    "from sklearn.ensemble import RandomForestRegressor\n",
    "#Random forest regression\n",
    "def ML_pipeline_kfold_GridSearchCV(X,y,random_state,n_folds):\n",
    "    # create a test set\n",
    "    X_other, X_test, y_other, y_test = train_test_split(X, y, test_size=0.2, random_state = random_state)\n",
    "    # splitter for _other\n",
    "    kf = KFold(n_splits=n_folds,shuffle=True,random_state=random_state)\n",
    "\n",
    "    reg = RandomForestRegressor(n_jobs= -1,random_state = 19)\n",
    "    param_grid = {'min_samples_split': range(2,20,4),'max_depth': range(1,30,5)}    # prepare gridsearch\n",
    "    grid = GridSearchCV(reg, param_grid=param_grid,scoring = make_scorer(r2_score,greater_is_better=True),\n",
    "                        cv=kf, return_train_score = True,iid = True)\n",
    "    # do kfold CV on _other\n",
    "    grid.fit(X_other, y_other)\n",
    "    return grid, grid.score(X_test, y_test)"
   ]
  },
  {
   "cell_type": "code",
   "execution_count": 62,
   "metadata": {
    "scrolled": false
   },
   "outputs": [
    {
     "name": "stdout",
     "output_type": "stream",
     "text": [
      "RandomForestRegressor(bootstrap=True, criterion='mse', max_depth=6,\n",
      "                      max_features='auto', max_leaf_nodes=None,\n",
      "                      min_impurity_decrease=0.0, min_impurity_split=None,\n",
      "                      min_samples_leaf=1, min_samples_split=18,\n",
      "                      min_weight_fraction_leaf=0.0, n_estimators=10, n_jobs=-1,\n",
      "                      oob_score=False, random_state=19, verbose=0,\n",
      "                      warm_start=False)\n",
      "R2 score 0.13142415986076858\n",
      "9\n",
      "RandomForestRegressor(bootstrap=True, criterion='mse', max_depth=6,\n",
      "                      max_features='auto', max_leaf_nodes=None,\n",
      "                      min_impurity_decrease=0.0, min_impurity_split=None,\n",
      "                      min_samples_leaf=1, min_samples_split=10,\n",
      "                      min_weight_fraction_leaf=0.0, n_estimators=10, n_jobs=-1,\n",
      "                      oob_score=False, random_state=19, verbose=0,\n",
      "                      warm_start=False)\n",
      "R2 score 0.13035307249043984\n",
      "7\n",
      "RandomForestRegressor(bootstrap=True, criterion='mse', max_depth=6,\n",
      "                      max_features='auto', max_leaf_nodes=None,\n",
      "                      min_impurity_decrease=0.0, min_impurity_split=None,\n",
      "                      min_samples_leaf=1, min_samples_split=18,\n",
      "                      min_weight_fraction_leaf=0.0, n_estimators=10, n_jobs=-1,\n",
      "                      oob_score=False, random_state=19, verbose=0,\n",
      "                      warm_start=False)\n",
      "R2 score 0.1258244521021424\n",
      "9\n",
      "RandomForestRegressor(bootstrap=True, criterion='mse', max_depth=6,\n",
      "                      max_features='auto', max_leaf_nodes=None,\n",
      "                      min_impurity_decrease=0.0, min_impurity_split=None,\n",
      "                      min_samples_leaf=1, min_samples_split=18,\n",
      "                      min_weight_fraction_leaf=0.0, n_estimators=10, n_jobs=-1,\n",
      "                      oob_score=False, random_state=19, verbose=0,\n",
      "                      warm_start=False)\n",
      "R2 score 0.1302449676998022\n",
      "9\n",
      "RandomForestRegressor(bootstrap=True, criterion='mse', max_depth=6,\n",
      "                      max_features='auto', max_leaf_nodes=None,\n",
      "                      min_impurity_decrease=0.0, min_impurity_split=None,\n",
      "                      min_samples_leaf=1, min_samples_split=18,\n",
      "                      min_weight_fraction_leaf=0.0, n_estimators=10, n_jobs=-1,\n",
      "                      oob_score=False, random_state=19, verbose=0,\n",
      "                      warm_start=False)\n",
      "R2 score 0.12517844376133008\n",
      "9\n",
      "RandomForestRegressor(bootstrap=True, criterion='mse', max_depth=6,\n",
      "                      max_features='auto', max_leaf_nodes=None,\n",
      "                      min_impurity_decrease=0.0, min_impurity_split=None,\n",
      "                      min_samples_leaf=1, min_samples_split=18,\n",
      "                      min_weight_fraction_leaf=0.0, n_estimators=10, n_jobs=-1,\n",
      "                      oob_score=False, random_state=19, verbose=0,\n",
      "                      warm_start=False)\n",
      "R2 score 0.12659037522070846\n",
      "9\n",
      "RandomForestRegressor(bootstrap=True, criterion='mse', max_depth=6,\n",
      "                      max_features='auto', max_leaf_nodes=None,\n",
      "                      min_impurity_decrease=0.0, min_impurity_split=None,\n",
      "                      min_samples_leaf=1, min_samples_split=18,\n",
      "                      min_weight_fraction_leaf=0.0, n_estimators=10, n_jobs=-1,\n",
      "                      oob_score=False, random_state=19, verbose=0,\n",
      "                      warm_start=False)\n",
      "R2 score 0.13487401494982118\n",
      "9\n",
      "RandomForestRegressor(bootstrap=True, criterion='mse', max_depth=6,\n",
      "                      max_features='auto', max_leaf_nodes=None,\n",
      "                      min_impurity_decrease=0.0, min_impurity_split=None,\n",
      "                      min_samples_leaf=1, min_samples_split=2,\n",
      "                      min_weight_fraction_leaf=0.0, n_estimators=10, n_jobs=-1,\n",
      "                      oob_score=False, random_state=19, verbose=0,\n",
      "                      warm_start=False)\n",
      "R2 score 0.12955705946813043\n",
      "5\n",
      "RandomForestRegressor(bootstrap=True, criterion='mse', max_depth=6,\n",
      "                      max_features='auto', max_leaf_nodes=None,\n",
      "                      min_impurity_decrease=0.0, min_impurity_split=None,\n",
      "                      min_samples_leaf=1, min_samples_split=18,\n",
      "                      min_weight_fraction_leaf=0.0, n_estimators=10, n_jobs=-1,\n",
      "                      oob_score=False, random_state=19, verbose=0,\n",
      "                      warm_start=False)\n",
      "R2 score 0.1255663889619346\n",
      "9\n",
      "RandomForestRegressor(bootstrap=True, criterion='mse', max_depth=6,\n",
      "                      max_features='auto', max_leaf_nodes=None,\n",
      "                      min_impurity_decrease=0.0, min_impurity_split=None,\n",
      "                      min_samples_leaf=1, min_samples_split=18,\n",
      "                      min_weight_fraction_leaf=0.0, n_estimators=10, n_jobs=-1,\n",
      "                      oob_score=False, random_state=19, verbose=0,\n",
      "                      warm_start=False)\n",
      "R2 score 0.12181251584658251\n",
      "9\n",
      "test accuracy: 0.12074022777051341 +/- 0.014069892895339102\n"
     ]
    }
   ],
   "source": [
    "test_scores = []\n",
    "for error in range(1,11):\n",
    "    grid, test_score = ML_pipeline_kfold_GridSearchCV(X,y,error*19,5)\n",
    "    results = pd.DataFrame(grid.cv_results_)\n",
    "#     print('CV MSE:',-np.around(results[results['rank_test_score'] == 1]['mean_test_score'].values[0],2),\\\n",
    "#           '+/-',np.around(results[results['rank_test_score'] == 1]['std_test_score'].values[0],2))\n",
    "#     print('test MSE:',-np.around(test_score,2))\n",
    "    print(grid.best_estimator_)\n",
    "    print(\"R2 score\",grid.best_score_)\n",
    "    print(grid.best_index_)\n",
    "    test_scores.append(test_score)\n",
    "print('test accuracy:',np.mean(test_scores),'+/-',np.std(test_scores))"
   ]
  },
  {
   "cell_type": "code",
   "execution_count": 63,
   "metadata": {},
   "outputs": [],
   "source": [
    "from sklearn.ensemble import RandomForestRegressor\n",
    "#Lasso\n",
    "def ML_pipeline_kfold_GridSearchCV(X,y,random_state,n_folds):\n",
    "    # create a test set\n",
    "    X_other, X_test, y_other, y_test = train_test_split(X, y, test_size=0.2, random_state = random_state)\n",
    "    # splitter for _other\n",
    "    kf = KFold(n_splits=n_folds,shuffle=True,random_state=random_state)\n",
    "\n",
    "    reg = LogisticRegression(penalty='l1', solver='saga', max_iter=100000,random_state = 56,n_jobs = -1)\n",
    "    param_grid = {'C': np.logspace(-5,4,10)} \n",
    "    grid = GridSearchCV(reg, param_grid=param_grid,scoring = make_scorer(r2_score,greater_is_better=True),\n",
    "                        cv=kf, return_train_score = True,iid = True)\n",
    "    # do kfold CV on _other\n",
    "    grid.fit(X_other, y_other)\n",
    "    return grid, grid.score(X_test, y_test)"
   ]
  },
  {
   "cell_type": "code",
   "execution_count": 64,
   "metadata": {
    "scrolled": false
   },
   "outputs": [
    {
     "name": "stdout",
     "output_type": "stream",
     "text": [
      "LogisticRegression(C=0.001, class_weight=None, dual=False, fit_intercept=True,\n",
      "                   intercept_scaling=1, l1_ratio=None, max_iter=100000,\n",
      "                   multi_class='warn', n_jobs=-1, penalty='l1', random_state=56,\n",
      "                   solver='saga', tol=0.0001, verbose=0, warm_start=False)\n",
      "R2 score -0.009580471372035547\n",
      "2\n",
      "LogisticRegression(C=1e-05, class_weight=None, dual=False, fit_intercept=True,\n",
      "                   intercept_scaling=1, l1_ratio=None, max_iter=100000,\n",
      "                   multi_class='warn', n_jobs=-1, penalty='l1', random_state=56,\n",
      "                   solver='saga', tol=0.0001, verbose=0, warm_start=False)\n",
      "R2 score -0.010471037291284712\n",
      "0\n",
      "LogisticRegression(C=0.001, class_weight=None, dual=False, fit_intercept=True,\n",
      "                   intercept_scaling=1, l1_ratio=None, max_iter=100000,\n",
      "                   multi_class='warn', n_jobs=-1, penalty='l1', random_state=56,\n",
      "                   solver='saga', tol=0.0001, verbose=0, warm_start=False)\n",
      "R2 score -0.008944781783898303\n",
      "2\n",
      "LogisticRegression(C=1e-05, class_weight=None, dual=False, fit_intercept=True,\n",
      "                   intercept_scaling=1, l1_ratio=None, max_iter=100000,\n",
      "                   multi_class='warn', n_jobs=-1, penalty='l1', random_state=56,\n",
      "                   solver='saga', tol=0.0001, verbose=0, warm_start=False)\n",
      "R2 score -0.011999372709870748\n",
      "0\n",
      "LogisticRegression(C=0.001, class_weight=None, dual=False, fit_intercept=True,\n",
      "                   intercept_scaling=1, l1_ratio=None, max_iter=100000,\n",
      "                   multi_class='warn', n_jobs=-1, penalty='l1', random_state=56,\n",
      "                   solver='saga', tol=0.0001, verbose=0, warm_start=False)\n",
      "R2 score -0.009949369778090045\n",
      "2\n",
      "LogisticRegression(C=0.01, class_weight=None, dual=False, fit_intercept=True,\n",
      "                   intercept_scaling=1, l1_ratio=None, max_iter=100000,\n",
      "                   multi_class='warn', n_jobs=-1, penalty='l1', random_state=56,\n",
      "                   solver='saga', tol=0.0001, verbose=0, warm_start=False)\n",
      "R2 score -0.028423563038479573\n",
      "3\n",
      "LogisticRegression(C=0.001, class_weight=None, dual=False, fit_intercept=True,\n",
      "                   intercept_scaling=1, l1_ratio=None, max_iter=100000,\n",
      "                   multi_class='warn', n_jobs=-1, penalty='l1', random_state=56,\n",
      "                   solver='saga', tol=0.0001, verbose=0, warm_start=False)\n",
      "R2 score -0.009697975413347227\n",
      "2\n",
      "LogisticRegression(C=0.001, class_weight=None, dual=False, fit_intercept=True,\n",
      "                   intercept_scaling=1, l1_ratio=None, max_iter=100000,\n",
      "                   multi_class='warn', n_jobs=-1, penalty='l1', random_state=56,\n",
      "                   solver='saga', tol=0.0001, verbose=0, warm_start=False)\n",
      "R2 score -0.010468505996861532\n",
      "2\n",
      "LogisticRegression(C=0.001, class_weight=None, dual=False, fit_intercept=True,\n",
      "                   intercept_scaling=1, l1_ratio=None, max_iter=100000,\n",
      "                   multi_class='warn', n_jobs=-1, penalty='l1', random_state=56,\n",
      "                   solver='saga', tol=0.0001, verbose=0, warm_start=False)\n",
      "R2 score -0.007903254564014174\n",
      "2\n",
      "LogisticRegression(C=0.001, class_weight=None, dual=False, fit_intercept=True,\n",
      "                   intercept_scaling=1, l1_ratio=None, max_iter=100000,\n",
      "                   multi_class='warn', n_jobs=-1, penalty='l1', random_state=56,\n",
      "                   solver='saga', tol=0.0001, verbose=0, warm_start=False)\n",
      "R2 score -0.010445344397757062\n",
      "2\n",
      "test accuracy: -0.1631533273584148 +/- 0.4601339299799692\n"
     ]
    }
   ],
   "source": [
    "test_scores = []\n",
    "for error in range(1,11):\n",
    "    grid, test_score = ML_pipeline_kfold_GridSearchCV(X,y,error*19,5)\n",
    "    results = pd.DataFrame(grid.cv_results_)\n",
    "#     print('CV MSE:',-np.around(results[results['rank_test_score'] == 1]['mean_test_score'].values[0],2),\\\n",
    "#           '+/-',np.around(results[results['rank_test_score'] == 1]['std_test_score'].values[0],2))\n",
    "#     print('test MSE:',-np.around(test_score,2))\n",
    "    print(grid.best_estimator_)\n",
    "    print(\"R2 score\",grid.best_score_)\n",
    "    print(grid.best_index_)\n",
    "    test_scores.append(test_score)\n",
    "print('test accuracy:',np.mean(test_scores),'+/-',np.std(test_scores))"
   ]
  },
  {
   "cell_type": "code",
   "execution_count": null,
   "metadata": {},
   "outputs": [],
   "source": [
    "from sklearn.ensemble import RandomForestRegressor\n",
    "#Ridge\n",
    "def ML_pipeline_kfold_GridSearchCV(X,y,random_state,n_folds):\n",
    "    # create a test set\n",
    "    X_other, X_test, y_other, y_test = train_test_split(X, y, test_size=0.2, random_state = random_state)\n",
    "    # splitter for _other\n",
    "    kf = KFold(n_splits=n_folds,shuffle=True,random_state=random_state)\n",
    "\n",
    "    reg = LogisticRegression(penalty='l2', solver='saga', max_iter=100000,random_state = 56,n_jobs = -1)\n",
    "    param_grid = {'C': np.logspace(-5,4,10)} \n",
    "    grid = GridSearchCV(reg, param_grid=param_grid,scoring = make_scorer(r2_score,greater_is_better=True),\n",
    "                        cv=kf, return_train_score = True,iid = True)\n",
    "    # do kfold CV on _other\n",
    "    grid.fit(X_other, y_other)\n",
    "    return grid, grid.score(X_test, y_test)"
   ]
  },
  {
   "cell_type": "code",
   "execution_count": 24,
   "metadata": {},
   "outputs": [
    {
     "name": "stdout",
     "output_type": "stream",
     "text": [
      "LogisticRegression(C=1e-05, class_weight=None, dual=False, fit_intercept=True,\n",
      "                   intercept_scaling=1, l1_ratio=None, max_iter=100000,\n",
      "                   multi_class='warn', n_jobs=-1, penalty='l2', random_state=56,\n",
      "                   solver='saga', tol=0.0001, verbose=0, warm_start=False)\n",
      "R2 score -0.009580471372035547\n",
      "0\n",
      "LogisticRegression(C=0.0001, class_weight=None, dual=False, fit_intercept=True,\n",
      "                   intercept_scaling=1, l1_ratio=None, max_iter=100000,\n",
      "                   multi_class='warn', n_jobs=-1, penalty='l2', random_state=56,\n",
      "                   solver='saga', tol=0.0001, verbose=0, warm_start=False)\n",
      "R2 score -0.009428773136749679\n",
      "1\n",
      "LogisticRegression(C=1e-05, class_weight=None, dual=False, fit_intercept=True,\n",
      "                   intercept_scaling=1, l1_ratio=None, max_iter=100000,\n",
      "                   multi_class='warn', n_jobs=-1, penalty='l2', random_state=56,\n",
      "                   solver='saga', tol=0.0001, verbose=0, warm_start=False)\n",
      "R2 score -0.008944781783898303\n",
      "0\n",
      "LogisticRegression(C=0.0001, class_weight=None, dual=False, fit_intercept=True,\n",
      "                   intercept_scaling=1, l1_ratio=None, max_iter=100000,\n",
      "                   multi_class='warn', n_jobs=-1, penalty='l2', random_state=56,\n",
      "                   solver='saga', tol=0.0001, verbose=0, warm_start=False)\n",
      "R2 score -0.009578862033381874\n",
      "1\n",
      "LogisticRegression(C=0.0001, class_weight=None, dual=False, fit_intercept=True,\n",
      "                   intercept_scaling=1, l1_ratio=None, max_iter=100000,\n",
      "                   multi_class='warn', n_jobs=-1, penalty='l2', random_state=56,\n",
      "                   solver='saga', tol=0.0001, verbose=0, warm_start=False)\n",
      "R2 score -0.008120690761598093\n",
      "1\n",
      "LogisticRegression(C=0.0001, class_weight=None, dual=False, fit_intercept=True,\n",
      "                   intercept_scaling=1, l1_ratio=None, max_iter=100000,\n",
      "                   multi_class='warn', n_jobs=-1, penalty='l2', random_state=56,\n",
      "                   solver='saga', tol=0.0001, verbose=0, warm_start=False)\n",
      "R2 score -0.15789662723783285\n",
      "1\n",
      "LogisticRegression(C=0.0001, class_weight=None, dual=False, fit_intercept=True,\n",
      "                   intercept_scaling=1, l1_ratio=None, max_iter=100000,\n",
      "                   multi_class='warn', n_jobs=-1, penalty='l2', random_state=56,\n",
      "                   solver='saga', tol=0.0001, verbose=0, warm_start=False)\n",
      "R2 score -0.008535182584408973\n",
      "1\n",
      "LogisticRegression(C=1e-05, class_weight=None, dual=False, fit_intercept=True,\n",
      "                   intercept_scaling=1, l1_ratio=None, max_iter=100000,\n",
      "                   multi_class='warn', n_jobs=-1, penalty='l2', random_state=56,\n",
      "                   solver='saga', tol=0.0001, verbose=0, warm_start=False)\n",
      "R2 score -0.010468505996861532\n",
      "0\n",
      "LogisticRegression(C=1e-05, class_weight=None, dual=False, fit_intercept=True,\n",
      "                   intercept_scaling=1, l1_ratio=None, max_iter=100000,\n",
      "                   multi_class='warn', n_jobs=-1, penalty='l2', random_state=56,\n",
      "                   solver='saga', tol=0.0001, verbose=0, warm_start=False)\n",
      "R2 score -0.007742254123758795\n",
      "0\n",
      "LogisticRegression(C=0.0001, class_weight=None, dual=False, fit_intercept=True,\n",
      "                   intercept_scaling=1, l1_ratio=None, max_iter=100000,\n",
      "                   multi_class='warn', n_jobs=-1, penalty='l2', random_state=56,\n",
      "                   solver='saga', tol=0.0001, verbose=0, warm_start=False)\n",
      "R2 score -0.006323284512830329\n",
      "1\n",
      "test accuracy: -0.008748529825634921 +/- 0.005961120691436612\n"
     ]
    }
   ],
   "source": [
    "test_scores = []\n",
    "for error in range(1,11):\n",
    "    grid, test_score = ML_pipeline_kfold_GridSearchCV(X,y,error*19,5)\n",
    "    results = pd.DataFrame(grid.cv_results_)\n",
    "#     print('CV MSE:',-np.around(results[results['rank_test_score'] == 1]['mean_test_score'].values[0],2),\\\n",
    "#           '+/-',np.around(results[results['rank_test_score'] == 1]['std_test_score'].values[0],2))\n",
    "#     print('test MSE:',-np.around(test_score,2))\n",
    "    print(grid.best_estimator_)\n",
    "    print(\"R2 score\",grid.best_score_)\n",
    "    print(grid.best_index_)\n",
    "    test_scores.append(test_score)\n",
    "print('test accuracy:',np.mean(test_scores),'+/-',np.std(test_scores))"
   ]
  },
  {
   "cell_type": "code",
   "execution_count": 80,
   "metadata": {},
   "outputs": [],
   "source": [
    "from sklearn.ensemble import RandomForestRegressor\n",
    "from sklearn.linear_model import LinearRegression\n",
    "def ML_pipeline_kfold_GridSearchCV(X,y,random_state,n_folds):\n",
    "    # create a test set\n",
    "    X_other, X_test, y_other, y_test = train_test_split(X, y, test_size=0.2, random_state = random_state)\n",
    "    # splitter for _other\n",
    "    kf = KFold(n_splits=n_folds,shuffle=True,random_state=random_state)\n",
    "\n",
    "    reg = LinearRegression()\n",
    "    param_grid = {} \n",
    "    grid = GridSearchCV(reg, param_grid=param_grid,scoring = make_scorer(r2_score,greater_is_better=True),\n",
    "                        cv=kf, return_train_score = True,iid = True)\n",
    "    # do kfold CV on _other\n",
    "    grid.fit(X_other, y_other)\n",
    "    return grid, grid.score(X_test, y_test)"
   ]
  },
  {
   "cell_type": "code",
   "execution_count": 81,
   "metadata": {
    "scrolled": false
   },
   "outputs": [
    {
     "name": "stdout",
     "output_type": "stream",
     "text": [
      "LinearRegression(copy_X=True, fit_intercept=True, n_jobs=None, normalize=False)\n",
      "R2 score 0.05981578954894687\n",
      "0\n",
      "LinearRegression(copy_X=True, fit_intercept=True, n_jobs=None, normalize=False)\n",
      "R2 score 0.06382417311992314\n",
      "0\n",
      "LinearRegression(copy_X=True, fit_intercept=True, n_jobs=None, normalize=False)\n",
      "R2 score 0.055821492274000024\n",
      "0\n",
      "LinearRegression(copy_X=True, fit_intercept=True, n_jobs=None, normalize=False)\n",
      "R2 score 0.062386839697791116\n",
      "0\n",
      "LinearRegression(copy_X=True, fit_intercept=True, n_jobs=None, normalize=False)\n",
      "R2 score 0.04903422234743255\n",
      "0\n",
      "LinearRegression(copy_X=True, fit_intercept=True, n_jobs=None, normalize=False)\n",
      "R2 score 0.052972925597627514\n",
      "0\n",
      "LinearRegression(copy_X=True, fit_intercept=True, n_jobs=None, normalize=False)\n",
      "R2 score 0.0582244615272566\n",
      "0\n",
      "LinearRegression(copy_X=True, fit_intercept=True, n_jobs=None, normalize=False)\n",
      "R2 score 0.05828763528250358\n",
      "0\n",
      "LinearRegression(copy_X=True, fit_intercept=True, n_jobs=None, normalize=False)\n",
      "R2 score 0.05677055584820997\n",
      "0\n",
      "LinearRegression(copy_X=True, fit_intercept=True, n_jobs=None, normalize=False)\n",
      "R2 score 0.06014947932790248\n",
      "0\n",
      "test accuracy: 0.059285337343888245 +/- 0.015581961072663577\n"
     ]
    }
   ],
   "source": [
    "test_scores = []\n",
    "for error in range(1,11):\n",
    "    grid, test_score = ML_pipeline_kfold_GridSearchCV(X,y,error*19,5)\n",
    "    results = pd.DataFrame(grid.cv_results_)\n",
    "#     print('CV MSE:',-np.around(results[results['rank_test_score'] == 1]['mean_test_score'].values[0],2),\\\n",
    "#           '+/-',np.around(results[results['rank_test_score'] == 1]['std_test_score'].values[0],2))\n",
    "#     print('test MSE:',-np.around(test_score,2))\n",
    "    print(grid.best_estimator_)\n",
    "    print(\"R2 score\",grid.best_score_)\n",
    "    print(grid.best_index_)\n",
    "    test_scores.append(test_score)\n",
    "print('test accuracy:',np.mean(test_scores),'+/-',np.std(test_scores))"
   ]
  },
  {
   "cell_type": "code",
   "execution_count": 79,
   "metadata": {},
   "outputs": [
    {
     "name": "stdout",
     "output_type": "stream",
     "text": [
      "Feature ranking:\n",
      "1. likes (0.615517)\n",
      "2. dislikes (0.102793)\n",
      "3. comment_count (0.102232)\n",
      "4. views (0.085219)\n",
      "5. x0_0.0 (0.015559)\n",
      "6. x0_1.0 (0.013678)\n",
      "7. x1_1.0 (0.013428)\n",
      "8. x1_2.0 (0.009351)\n",
      "9. x1_10.0 (0.009110)\n",
      "10. x1_15.0 (0.007125)\n",
      "11. x1_17.0 (0.004874)\n",
      "12. x1_19.0 (0.004293)\n",
      "13. x1_20.0 (0.004281)\n",
      "14. x1_22.0 (0.003984)\n",
      "15. x1_23.0 (0.003036)\n",
      "16. x1_24.0 (0.002601)\n",
      "17. x1_25.0 (0.001008)\n",
      "18. x1_26.0 (0.000708)\n",
      "19. x1_27.0 (0.000649)\n",
      "20. x1_28.0 (0.000388)\n",
      "21. x1_29.0 (0.000168)\n",
      "22. x1_43.0 (0.000000)\n",
      "23. x2_0.0 (0.000000)\n",
      "24. x2_1.0 (0.000000)\n"
     ]
    },
    {
     "data": {
      "image/png": "[encoded data removed]",
      "text/plain": [
       "<Figure size 432x288 with 1 Axes>"
      ]
     },
     "metadata": {
      "needs_background": "light"
     },
     "output_type": "display_data"
    }
   ],
   "source": [
    "#https://scikit-learn.org/stable/auto_examples/ensemble/plot_forest_importances.html\n",
    "from sklearn.ensemble import RandomForestRegressor\n",
    "\n",
    "df = pd.read_csv('../data/Processed_Data.csv')\n",
    "y = df['duration_on_trending'].values\n",
    "X = df.drop(columns = ['duration_on_trending']).values\n",
    "columns = df.drop(columns = ['duration_on_trending']).columns\n",
    "forest = RandomForestRegressor(bootstrap=True, criterion='mse', max_depth=6,\n",
    "                      max_features='auto', max_leaf_nodes=None,\n",
    "                      min_impurity_decrease=0.0, min_impurity_split=None,\n",
    "                      min_samples_leaf=1, min_samples_split=18,\n",
    "                      min_weight_fraction_leaf=0.0, n_estimators=10, n_jobs=-1,\n",
    "                      oob_score=False, random_state=19, verbose=0,\n",
    "                      warm_start=False)\n",
    "forest.fit(X, y)\n",
    "importances = forest.feature_importances_\n",
    "std = np.std([tree.feature_importances_ for tree in forest.estimators_],\n",
    "             axis=0)\n",
    "indices = np.argsort(importances)[::-1]\n",
    "\n",
    "# Print the feature ranking\n",
    "print(\"Feature ranking:\")\n",
    "\n",
    "for f in range(X.shape[1]):\n",
    "    print(\"%d. %s (%f)\" % (f + 1,columns[f],importances[indices[f]]))\n",
    "\n",
    "# Plot the feature importances of the forest\n",
    "plt.figure()\n",
    "plt.title(\"Feature importances\")\n",
    "plt.bar(range(X.shape[1]), importances[indices],\n",
    "       color=\"r\", yerr=std[indices], align=\"center\")\n",
    "plt.xticks(range(X.shape[1]), columns,rotation=90)\n",
    "plt.xlim([-1, X.shape[1]])\n",
    "plt.savefig('../figures/Feature_Importance.png',dpi=300)\n",
    "plt.show()"
   ]
  },
  {
   "cell_type": "code",
   "execution_count": 85,
   "metadata": {
    "scrolled": false
   },
   "outputs": [
    {
     "data": {
      "image/png": "[encoded data removed]",
      "text/plain": [
       "<Figure size 432x288 with 1 Axes>"
      ]
     },
     "metadata": {
      "needs_background": "light"
     },
     "output_type": "display_data"
    },
    {
     "data": {
      "image/png": "[encoded data removed]",
      "text/plain": [
       "<Figure size 432x288 with 1 Axes>"
      ]
     },
     "metadata": {
      "needs_background": "light"
     },
     "output_type": "display_data"
    },
    {
     "data": {
      "image/png": "[encoded data removed]",
      "text/plain": [
       "<Figure size 432x288 with 1 Axes>"
      ]
     },
     "metadata": {
      "needs_background": "light"
     },
     "output_type": "display_data"
    },
    {
     "data": {
      "image/png": "[encoded data removed]",
      "text/plain": [
       "<Figure size 432x288 with 1 Axes>"
      ]
     },
     "metadata": {
      "needs_background": "light"
     },
     "output_type": "display_data"
    }
   ],
   "source": [
    "dropped_columns = [['likes','dislikes','comment_count'],\n",
    "                   ['likes','views','comment_count'],['likes','dislikes','views'],\n",
    "                   ['views','dislikes','comment_count']]\n",
    "for x in dropped_columns:\n",
    "    x.append('duration_on_trending')\n",
    "    df = pd.read_csv('../data/Processed_Data.csv')\n",
    "    y = df['duration_on_trending'].values\n",
    "    X = df.drop(columns = x).values\n",
    "    columns = df.drop(columns = x).columns\n",
    "    forest = RandomForestRegressor(bootstrap=True, criterion='mse', max_depth=6,\n",
    "                          max_features='auto', max_leaf_nodes=None,\n",
    "                          min_impurity_decrease=0.0, min_impurity_split=None,\n",
    "                          min_samples_leaf=1, min_samples_split=18,\n",
    "                          min_weight_fraction_leaf=0.0, n_estimators=10, n_jobs=-1,\n",
    "                          oob_score=False, random_state=19, verbose=0,\n",
    "                          warm_start=False)\n",
    "    forest.fit(X, y)\n",
    "    importances = forest.feature_importances_\n",
    "    std = np.std([tree.feature_importances_ for tree in forest.estimators_],\n",
    "                 axis=0)\n",
    "    indices = np.argsort(importances)[::-1]\n",
    "    # Plot the feature importances of the forest\n",
    "    plt.figure()\n",
    "    plt.title(\"Feature importances without\"+str(x))\n",
    "    plt.bar(range(X.shape[1]), importances[indices],\n",
    "           color=\"r\", yerr=std[indices], align=\"center\")\n",
    "    plt.xticks(range(X.shape[1]), columns,rotation=90)\n",
    "    plt.xlim([-1, X.shape[1]])\n",
    "    plt.savefig(('../figures/'+str(x)+'Feature_Importance.png'),dpi=300)\n",
    "    plt.show()"
   ]
  },
  {
   "cell_type": "code",
   "execution_count": 74,
   "metadata": {},
   "outputs": [],
   "source": [
    "from sklearn.ensemble import RandomForestRegressor\n",
    "#Random forest regression\n",
    "def ML_pipeline_kfold_GridSearchCV(X,y,random_state,n_folds):\n",
    "    # create a test set\n",
    "    X_other, X_test, y_other, y_test = train_test_split(X, y, test_size=0.2, random_state = random_state)\n",
    "    # splitter for _other\n",
    "    kf = KFold(n_splits=n_folds,shuffle=True,random_state=random_state)\n",
    "\n",
    "    reg = RandomForestRegressor(n_jobs= -1,random_state = 19)\n",
    "    param_grid = {'min_samples_split': range(2,20,4),'max_depth': range(1,30,5)}    # prepare gridsearch\n",
    "    grid = GridSearchCV(reg, param_grid=param_grid,scoring = make_scorer(r2_score,greater_is_better=True),\n",
    "                        cv=kf, return_train_score = True,iid = True)\n",
    "    # do kfold CV on _other\n",
    "    grid.fit(X_other, y_other)\n",
    "    return grid, grid.score(X_test, y_test)"
   ]
  },
  {
   "cell_type": "code",
   "execution_count": 78,
   "metadata": {},
   "outputs": [
    {
     "name": "stdout",
     "output_type": "stream",
     "text": [
      "R2 score 0.10502264935792122\n",
      "9\n",
      "R2 score 0.11467464387702751\n",
      "9\n",
      "test accuracy: 0.08683699108907839 +/- 0.015537444997322347\n",
      "R2 score 0.10868592607093933\n",
      "9\n",
      "R2 score 0.11069878269135137\n",
      "8\n",
      "test accuracy: 0.10080229798604712 +/- 0.009615437045028541\n",
      "R2 score 0.11959936241403432\n",
      "9\n",
      "R2 score 0.11697973681108709\n",
      "8\n",
      "test accuracy: 0.11308300291949225 +/- 0.007687235133292614\n",
      "R2 score 0.1267562781243394\n",
      "9\n",
      "R2 score 0.12286267726140321\n",
      "9\n",
      "test accuracy: 0.10628086143207394 +/- 0.0040238126776439564\n"
     ]
    }
   ],
   "source": [
    "dropped_columns = [['likes','dislikes','comment_count'],\n",
    "                   ['likes','views','comment_count'],['likes','dislikes','views'],\n",
    "                   ['views','dislikes','comment_count']]\n",
    "\n",
    "for x in dropped_columns:\n",
    "    test_scores = []\n",
    "    x.append('duration_on_trending')\n",
    "    df = pd.read_csv('../data/Processed_Data.csv')\n",
    "    y = df['duration_on_trending'].values\n",
    "    X = df.drop(columns = x).values\n",
    "    for error in range(1,3):\n",
    "        grid, test_score = ML_pipeline_kfold_GridSearchCV(X,y,error*19,5)\n",
    "        results = pd.DataFrame(grid.cv_results_)\n",
    "    #     print('CV MSE:',-np.around(results[results['rank_test_score'] == 1]['mean_test_score'].values[0],2),\\\n",
    "    #           '+/-',np.around(results[results['rank_test_score'] == 1]['std_test_score'].values[0],2))\n",
    "    #     print('test MSE:',-np.around(test_score,2))\n",
    "        #print(grid.best_estimator_)\n",
    "        print(\"R2 score\",grid.best_score_)\n",
    "        print(grid.best_index_)\n",
    "        test_scores.append(test_score)\n",
    "    print('test accuracy:',np.mean(test_scores),'+/-',np.std(test_scores))"
   ]
  },
  {
   "cell_type": "code",
   "execution_count": null,
   "metadata": {},
   "outputs": [],
   "source": []
  }
 ],
 "metadata": {
  "kernelspec": {
   "display_name": "Python 3",
   "language": "python",
   "name": "python3"
  },
  "language_info": {
   "codemirror_mode": {
    "name": "ipython",
    "version": 3
   },
   "file_extension": ".py",
   "mimetype": "text/x-python",
   "name": "python",
   "nbconvert_exporter": "python",
   "pygments_lexer": "ipython3",
   "version": "3.7.4"
  }
 },
 "nbformat": 4,
 "nbformat_minor": 4
}
