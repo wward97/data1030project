{
 "cells": [
  {
   "cell_type": "code",
   "execution_count": 37,
   "metadata": {},
   "outputs": [
    {
     "name": "stdout",
     "output_type": "stream",
     "text": [
      "[ 13  13  13 ... 123 123 123]\n",
      "[[-0.21806945]\n",
      " [ 0.00784395]\n",
      " [ 0.11234064]\n",
      " ...\n",
      " [-0.17505133]\n",
      " [ 0.44631024]\n",
      " [ 1.07456169]]\n",
      "[[-0.07313665]\n",
      " [ 0.10013126]\n",
      " [ 0.31355077]\n",
      " ...\n",
      " [-0.11446352]\n",
      " [ 0.51856422]\n",
      " [ 1.23562196]]\n",
      "[[-0.02567749]\n",
      " [ 0.08386681]\n",
      " [ 0.05606736]\n",
      " ...\n",
      " [-0.09229972]\n",
      " [-0.02981124]\n",
      " [ 7.20872456]]\n",
      "[5848 5420 4360 ... 2555 2321 4041]\n"
     ]
    }
   ],
   "source": [
    "import pandas as pd\n",
    "import numpy as np\n",
    "from sklearn.preprocessing import StandardScaler\n",
    "from sklearn.preprocessing import LabelEncoder\n",
    "\n",
    "video_data = pd.read_csv('USvideos.csv')\n",
    "trending_date,views,likes,dislikes = video_data['trending_date'],video_data['views'],video_data['likes'],video_data['dislikes']\n",
    "title = video_data['title']\n",
    "ss = StandardScaler()\n",
    "le = LabelEncoder()\n",
    "print(le.fit_transform(trending_date))\n",
    "print(ss.fit_transform(np.array(views).reshape(-1,1)))\n",
    "print(ss.fit_transform(np.array(likes).reshape(-1,1)))\n",
    "print(ss.fit_transform(np.array(dislikes).reshape(-1,1)))\n",
    "print(le.fit_transform(title))\n"
   ]
  },
  {
   "cell_type": "code",
   "execution_count": null,
   "metadata": {},
   "outputs": [],
   "source": []
  }
 ],
 "metadata": {
  "kernelspec": {
   "display_name": "Python 3",
   "language": "python",
   "name": "python3"
  },
  "language_info": {
   "codemirror_mode": {
    "name": "ipython",
    "version": 3
   },
   "file_extension": ".py",
   "mimetype": "text/x-python",
   "name": "python",
   "nbconvert_exporter": "python",
   "pygments_lexer": "ipython3",
   "version": "3.7.3"
  }
 },
 "nbformat": 4,
 "nbformat_minor": 4
}
