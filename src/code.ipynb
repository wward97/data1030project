{
 "cells": [
  {
   "cell_type": "code",
   "execution_count": 33,
   "metadata": {},
   "outputs": [
    {
     "name": "stdout",
     "output_type": "stream",
     "text": [
      "           key  trending_date                   views                   likes  \\\n",
      "0  2kyS6SvSYSE             13  [-0.21806945078930895]  [-0.07313664984569711]   \n",
      "1  1ZAPwfrtAFY             13   [0.00784395152935099]   [0.10013126043459794]   \n",
      "2  5qpjK5DgCt4             13   [0.11234064438416375]    [0.3135507692694321]   \n",
      "3  puqaWrEC7tY             13   [-0.2728712784254956]  [-0.28003316231035424]   \n",
      "4  d380meD0W0M             13  [-0.03584701065167637]   [0.25326657374652345]   \n",
      "\n",
      "                 dislikes                                              title  \\\n",
      "0  [-0.02567749022555484]                 WE WANT TO TALK ABOUT OUR MARRIAGE   \n",
      "1   [0.08386681020666273]  The Trump Presidency: Last Week Tonight with J...   \n",
      "2    [0.0560673603799962]  Racist Superman | Rudy Mancuso, King Bach & Le...   \n",
      "3  [-0.10490764462621535]                   Nickelback Lyrics: Real or Fake?   \n",
      "4  [-0.05933308189922672]                           I Dare You: GOING BALD!?   \n",
      "\n",
      "   comments_disabled  processed_features  \n",
      "0                  0                  22  \n",
      "1                  0                  24  \n",
      "2                  0                  23  \n",
      "3                  0                  24  \n",
      "4                  0                  24  \n"
     ]
    }
   ],
   "source": [
    "import pandas as pd\n",
    "import numpy as np\n",
    "from sklearn.preprocessing import StandardScaler\n",
    "from sklearn.preprocessing import LabelEncoder\n",
    "from sklearn.preprocessing import OneHotEncoder\n",
    "\n",
    "\n",
    "video_data = pd.read_csv('USvideos.csv')\n",
    "trending_date,views,likes,dislikes = video_data['trending_date'],video_data['views'],video_data['likes'],video_data['dislikes']\n",
    "title = video_data['title']\n",
    "ss = StandardScaler()\n",
    "le = LabelEncoder()\n",
    "enc = OneHotEncoder(sparse=False)\n",
    "preprocessed_data = {}\n",
    "preprocessed_data['key'] = video_data['video_id']\n",
    "preprocessed_data['trending_date'] = list(le.fit_transform(trending_date))\n",
    "preprocessed_data['views'] = list(ss.fit_transform(np.array(views).reshape(-1,1)))\n",
    "preprocessed_data['likes'] = list(ss.fit_transform(np.array(likes).reshape(-1,1)))\n",
    "preprocessed_data['dislikes'] = list(ss.fit_transform(np.array(dislikes).reshape(-1,1)))\n",
    "preprocessed_data['title'] = list(video_data['title'])\n",
    "preprocessed_data['comments_disabled'] = list(le.fit_transform(video_data['comments_disabled']))\n",
    "preprocessed_data['processed_features'] = video_data['category_id']\n",
    "df_processed = pd.DataFrame(preprocessed_data)\n",
    "print(df_processed.head())\n",
    "export_csv = df_processed.to_csv (r'Processed_Data.csv', index = None, header = True)"
   ]
  },
  {
   "cell_type": "code",
   "execution_count": null,
   "metadata": {},
   "outputs": [],
   "source": []
  }
 ],
 "metadata": {
  "kernelspec": {
   "display_name": "Python 3",
   "language": "python",
   "name": "python3"
  },
  "language_info": {
   "codemirror_mode": {
    "name": "ipython",
    "version": 3
   },
   "file_extension": ".py",
   "mimetype": "text/x-python",
   "name": "python",
   "nbconvert_exporter": "python",
   "pygments_lexer": "ipython3",
   "version": "3.7.3"
  }
 },
 "nbformat": 4,
 "nbformat_minor": 4
}
